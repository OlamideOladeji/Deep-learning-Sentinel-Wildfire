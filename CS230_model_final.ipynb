{
 "cells": [
  {
   "cell_type": "code",
   "execution_count": 1,
   "metadata": {},
   "outputs": [
    {
     "name": "stderr",
     "output_type": "stream",
     "text": [
      "Using TensorFlow backend.\n"
     ]
    }
   ],
   "source": [
    "import numpy as np\n",
    "from sklearn.model_selection import train_test_split\n",
    "import keras\n",
    "import matplotlib.pyplot as plt \n",
    "import cv2 \n",
    "import sklearn.metrics\n",
    "from sklearn.metrics import classification_report\n",
    "import matplotlib.pyplot as plt"
   ]
  },
  {
   "cell_type": "code",
   "execution_count": 2,
   "metadata": {},
   "outputs": [],
   "source": [
    "#loading data\n",
    "\n",
    "fire_false_X = np.load('class_fire_False_data0to5000.npy') #(256,256,8,5000)\n",
    "fire_true_X = np.load('class_fire_True_data0to5000.npy') #(256,256,8,5001)\n",
    "random_data= np.load('class_fire_False_random_data0to1000.npy') #(256,256,8,1000)"
   ]
  },
  {
   "cell_type": "code",
   "execution_count": 3,
   "metadata": {},
   "outputs": [],
   "source": [
    "#transform arrays to load into model\n",
    "\n",
    "fire_false_X = np.concatenate((fire_false_X,random_data),axis=3)\n",
    "X = np.concatenate((fire_false_X,fire_true_X),axis=3) #all fire examples in large array\n",
    "X = np.transpose(X, [3,0,1,2])\n",
    "\n",
    "Y_false = np.zeros(6000)\n",
    "Y_true = np.ones(5001)\n",
    "Y = np.concatenate((Y_false, Y_true))"
   ]
  },
  {
   "cell_type": "code",
   "execution_count": 4,
   "metadata": {},
   "outputs": [],
   "source": [
    "#splitting into train, val, test sets\n",
    "\n",
    "X_train, X_test, Y_train, Y_test = train_test_split(X, Y, test_size=0.2)\n",
    "X_test, X_val, Y_test, Y_val = train_test_split(X_test, Y_test, test_size=0.5)"
   ]
  },
  {
   "cell_type": "markdown",
   "metadata": {},
   "source": [
    "# Baseline CNN Model"
   ]
  },
  {
   "cell_type": "code",
   "execution_count": 22,
   "metadata": {},
   "outputs": [],
   "source": [
    "from keras.models import Sequential\n",
    "from keras.layers import Conv2D\n",
    "from keras.layers import MaxPooling2D\n",
    "from keras.layers import Flatten\n",
    "from keras.layers import Dense\n",
    "from keras.layers import Dropout"
   ]
  },
  {
   "cell_type": "code",
   "execution_count": 8,
   "metadata": {},
   "outputs": [
    {
     "name": "stderr",
     "output_type": "stream",
     "text": [
      "/home/ubuntu/anaconda3/envs/amazonei_tensorflow_p36/lib/python3.6/site-packages/ipykernel/__main__.py:6: UserWarning: Update your `Conv2D` call to the Keras 2 API: `Conv2D(64, (5, 5), input_shape=(256, 256,..., activation=\"relu\")`\n",
      "/home/ubuntu/anaconda3/envs/amazonei_tensorflow_p36/lib/python3.6/site-packages/ipykernel/__main__.py:12: UserWarning: Update your `Conv2D` call to the Keras 2 API: `Conv2D(32, (3, 3), activation=\"elu\")`\n",
      "/home/ubuntu/anaconda3/envs/amazonei_tensorflow_p36/lib/python3.6/site-packages/ipykernel/__main__.py:17: UserWarning: Update your `Conv2D` call to the Keras 2 API: `Conv2D(64, (3, 3), activation=\"elu\")`\n",
      "/home/ubuntu/anaconda3/envs/amazonei_tensorflow_p36/lib/python3.6/site-packages/ipykernel/__main__.py:21: UserWarning: Update your `Conv2D` call to the Keras 2 API: `Conv2D(128, (3, 3), activation=\"elu\")`\n",
      "/home/ubuntu/anaconda3/envs/amazonei_tensorflow_p36/lib/python3.6/site-packages/ipykernel/__main__.py:26: UserWarning: Update your `Dense` call to the Keras 2 API: `Dense(activation=\"relu\", units=128)`\n",
      "/home/ubuntu/anaconda3/envs/amazonei_tensorflow_p36/lib/python3.6/site-packages/ipykernel/__main__.py:27: UserWarning: Update your `Dense` call to the Keras 2 API: `Dense(activation=\"sigmoid\", units=1)`\n"
     ]
    }
   ],
   "source": [
    "# Initialising the CNN\n",
    "classifier = Sequential()\n",
    "\n",
    "# Step 1 - Convolution\n",
    "classifier.add(keras.layers.BatchNormalization(axis=-1, momentum=0.99, epsilon=0.001))\n",
    "classifier.add(Conv2D(64, 5, 5, input_shape = (256, 256, 3), activation = 'relu'))\n",
    "# Step 2 - Pooling\n",
    "classifier.add(MaxPooling2D(pool_size = (2, 2)))\n",
    "\n",
    "# Adding a second convolutional layer\n",
    "classifier.add(keras.layers.BatchNormalization(axis=-1, momentum=0.99, epsilon=0.001))\n",
    "classifier.add(Conv2D(32, 3, 3, activation = 'elu'))\n",
    "classifier.add(MaxPooling2D(pool_size = (2, 2)))\n",
    "\n",
    "# Adding a third convolutional layer\n",
    "classifier.add(keras.layers.BatchNormalization(axis=-1, momentum=0.99, epsilon=0.001))\n",
    "classifier.add(Conv2D(64, 3, 3, activation = 'elu'))\n",
    "classifier.add(MaxPooling2D(pool_size = (2, 2)))\n",
    "\n",
    "classifier.add(keras.layers.BatchNormalization(axis=-1, momentum=0.99, epsilon=0.001))\n",
    "classifier.add(Conv2D(128, 3, 3, activation = 'elu'))\n",
    "# Step 3 - Flattening\n",
    "classifier.add(Flatten())\n",
    "\n",
    "# Step 4 - Full connection\n",
    "classifier.add(Dense(output_dim = 128, activation = 'relu'))\n",
    "classifier.add(Dense(output_dim = 1, activation = 'sigmoid'))\n",
    "\n",
    "# Compiling the CNN\n",
    "classifier.compile(optimizer = 'adam', loss = 'binary_crossentropy', metrics = ['accuracy'])"
   ]
  },
  {
   "cell_type": "code",
   "execution_count": 9,
   "metadata": {},
   "outputs": [
    {
     "name": "stderr",
     "output_type": "stream",
     "text": [
      "/home/ubuntu/anaconda3/envs/amazonei_tensorflow_p36/lib/python3.6/site-packages/ipykernel/__main__.py:4: UserWarning: The `nb_epoch` argument in `fit` has been renamed `epochs`.\n"
     ]
    },
    {
     "name": "stdout",
     "output_type": "stream",
     "text": [
      "WARNING:tensorflow:From /home/ubuntu/anaconda3/envs/amazonei_tensorflow_p36/lib/python3.6/site-packages/keras/backend/tensorflow_backend.py:4070: The name tf.nn.max_pool is deprecated. Please use tf.nn.max_pool2d instead.\n",
      "\n",
      "WARNING:tensorflow:From /home/ubuntu/anaconda3/envs/amazonei_tensorflow_p36/lib/python3.6/site-packages/tensorflow/python/ops/nn_impl.py:180: add_dispatch_support.<locals>.wrapper (from tensorflow.python.ops.array_ops) is deprecated and will be removed in a future version.\n",
      "Instructions for updating:\n",
      "Use tf.where in 2.0, which has the same broadcast rule as np.where\n",
      "WARNING:tensorflow:From /home/ubuntu/anaconda3/envs/amazonei_tensorflow_p36/lib/python3.6/site-packages/keras/backend/tensorflow_backend.py:422: The name tf.global_variables is deprecated. Please use tf.compat.v1.global_variables instead.\n",
      "\n",
      "Train on 8800 samples, validate on 1101 samples\n",
      "Epoch 1/5\n",
      "8800/8800 [==============================] - 1430s 162ms/step - loss: 3.1593 - accuracy: 0.6184 - val_loss: 1.7254 - val_accuracy: 0.4668\n",
      "Epoch 2/5\n",
      "8800/8800 [==============================] - 1430s 163ms/step - loss: 0.5984 - accuracy: 0.6662 - val_loss: 0.8018 - val_accuracy: 0.5940\n",
      "Epoch 3/5\n",
      "8800/8800 [==============================] - 1435s 163ms/step - loss: 0.5743 - accuracy: 0.6689 - val_loss: 0.6135 - val_accuracy: 0.6558\n",
      "Epoch 4/5\n",
      "8800/8800 [==============================] - 1432s 163ms/step - loss: 0.5541 - accuracy: 0.6931 - val_loss: 0.6117 - val_accuracy: 0.6585\n",
      "Epoch 5/5\n",
      "8800/8800 [==============================] - 1432s 163ms/step - loss: 0.5446 - accuracy: 0.7133 - val_loss: 0.5558 - val_accuracy: 0.7003\n"
     ]
    },
    {
     "data": {
      "text/plain": [
       "<keras.callbacks.callbacks.History at 0x7fd2902112e8>"
      ]
     },
     "execution_count": 9,
     "metadata": {},
     "output_type": "execute_result"
    }
   ],
   "source": [
    "classifier.fit(X_train[:,:,:,0:3], Y_train,\n",
    "                         nb_epoch = 5,\n",
    "                         validation_data = (X_val[:,:,:,0:3], Y_val), \n",
    "                        batch_size=64\n",
    "                        )"
   ]
  },
  {
   "cell_type": "code",
   "execution_count": 11,
   "metadata": {},
   "outputs": [
    {
     "name": "stdout",
     "output_type": "stream",
     "text": [
      "1101/1101 [==============================] - 43s 39ms/step\n"
     ]
    },
    {
     "data": {
      "text/plain": [
       "[0.5557943313474768, 0.7002725005149841]"
      ]
     },
     "execution_count": 11,
     "metadata": {},
     "output_type": "execute_result"
    }
   ],
   "source": [
    "classifier.evaluate(X_val[:,:,:,0:3], Y_val)"
   ]
  },
  {
   "cell_type": "code",
   "execution_count": 12,
   "metadata": {},
   "outputs": [
    {
     "name": "stdout",
     "output_type": "stream",
     "text": [
      "1100/1100 [==============================] - 44s 40ms/step\n"
     ]
    },
    {
     "data": {
      "text/plain": [
       "[0.5494986766034906, 0.7063636183738708]"
      ]
     },
     "execution_count": 12,
     "metadata": {},
     "output_type": "execute_result"
    }
   ],
   "source": [
    "classifier.evaluate(X_test[:,:,:,0:3], Y_test)"
   ]
  },
  {
   "cell_type": "code",
   "execution_count": 13,
   "metadata": {},
   "outputs": [],
   "source": [
    "y_pred = classifier.predict(X_test[:,:,:,0:3])"
   ]
  },
  {
   "cell_type": "code",
   "execution_count": 26,
   "metadata": {},
   "outputs": [],
   "source": [
    "y_pred_bool = np.where(y_pred > 0.5, 1, 0)"
   ]
  },
  {
   "cell_type": "code",
   "execution_count": 27,
   "metadata": {
    "scrolled": true
   },
   "outputs": [
    {
     "name": "stdout",
     "output_type": "stream",
     "text": [
      "              precision    recall  f1-score   support\n",
      "\n",
      "         0.0       0.81      0.60      0.69       596\n",
      "         1.0       0.64      0.83      0.72       504\n",
      "\n",
      "   micro avg       0.71      0.71      0.71      1100\n",
      "   macro avg       0.72      0.72      0.71      1100\n",
      "weighted avg       0.73      0.71      0.70      1100\n",
      "\n"
     ]
    }
   ],
   "source": [
    "print(classification_report(Y_test, y_pred_bool))"
   ]
  },
  {
   "cell_type": "markdown",
   "metadata": {},
   "source": [
    "# CNN model with added channels"
   ]
  },
  {
   "cell_type": "code",
   "execution_count": null,
   "metadata": {},
   "outputs": [],
   "source": [
    "# Initialising the CNN\n",
    "classifier2 = Sequential()\n",
    "\n",
    "# Step 1 - Convolution\n",
    "classifier2.add(keras.layers.BatchNormalization(axis=-1, momentum=0.99, epsilon=0.001))\n",
    "classifier2.add(Conv2D(64, 5, 5, input_shape = (256, 256, 8), activation = 'relu'))\n",
    "# Step 2 - Pooling\n",
    "classifier2.add(MaxPooling2D(pool_size = (2, 2)))\n",
    "\n",
    "# Adding a second convolutional layer\n",
    "classifier2.add(keras.layers.BatchNormalization(axis=-1, momentum=0.99, epsilon=0.001))\n",
    "classifier2.add(Conv2D(32, 3, 3, activation = 'elu'))\n",
    "classifier2.add(MaxPooling2D(pool_size = (2, 2)))\n",
    "\n",
    "# Adding a third convolutional layer\n",
    "classifier2.add(keras.layers.BatchNormalization(axis=-1, momentum=0.99, epsilon=0.001))\n",
    "classifier2.add(Conv2D(64, 3, 3, activation = 'elu'))\n",
    "classifier2.add(MaxPooling2D(pool_size = (2, 2)))\n",
    "\n",
    "classifier2.add(keras.layers.BatchNormalization(axis=-1, momentum=0.99, epsilon=0.001))\n",
    "classifier2.add(Conv2D(128, 3, 3, activation = 'elu'))\n",
    "# Step 3 - Flattening\n",
    "classifier2.add(Flatten())\n",
    "\n",
    "# Step 4 - Full connection\n",
    "classifier2.add(Dense(output_dim = 128, activation = 'relu'))\n",
    "classifier2.add(Dense(output_dim = 1, activation = 'sigmoid'))\n",
    "\n",
    "# Compiling the CNN\n",
    "classifier2.compile(optimizer = 'adam', loss = 'binary_crossentropy', metrics = ['accuracy'])"
   ]
  },
  {
   "cell_type": "code",
   "execution_count": null,
   "metadata": {},
   "outputs": [],
   "source": [
    "classifier2.fit(X_train, Y_train,\n",
    "                         nb_epoch = 10,\n",
    "                         validation_data = (X_val, Y_val), \n",
    "                        batch_size=64\n",
    "                        )"
   ]
  },
  {
   "cell_type": "code",
   "execution_count": null,
   "metadata": {},
   "outputs": [],
   "source": [
    "classifier2.evaluate(X_val, Y_val)"
   ]
  },
  {
   "cell_type": "code",
   "execution_count": null,
   "metadata": {},
   "outputs": [],
   "source": [
    "classifier2.evaluate(X_test, Y_test)"
   ]
  },
  {
   "cell_type": "code",
   "execution_count": null,
   "metadata": {},
   "outputs": [],
   "source": [
    "y_pred = classifier2.predict(X_test)\n",
    "print(classification_report(Y_test, y_pred))"
   ]
  },
  {
   "cell_type": "markdown",
   "metadata": {},
   "source": [
    "# CNN model with dropout"
   ]
  },
  {
   "cell_type": "code",
   "execution_count": 23,
   "metadata": {},
   "outputs": [
    {
     "name": "stderr",
     "output_type": "stream",
     "text": [
      "/home/ubuntu/anaconda3/envs/amazonei_tensorflow_p36/lib/python3.6/site-packages/ipykernel/__main__.py:7: UserWarning: Update your `Conv2D` call to the Keras 2 API: `Conv2D(64, (5, 5), input_shape=(256, 256,..., activation=\"relu\")`\n",
      "/home/ubuntu/anaconda3/envs/amazonei_tensorflow_p36/lib/python3.6/site-packages/ipykernel/__main__.py:13: UserWarning: Update your `Conv2D` call to the Keras 2 API: `Conv2D(32, (3, 3), activation=\"elu\")`\n",
      "/home/ubuntu/anaconda3/envs/amazonei_tensorflow_p36/lib/python3.6/site-packages/ipykernel/__main__.py:18: UserWarning: Update your `Conv2D` call to the Keras 2 API: `Conv2D(64, (3, 3), activation=\"elu\")`\n",
      "/home/ubuntu/anaconda3/envs/amazonei_tensorflow_p36/lib/python3.6/site-packages/ipykernel/__main__.py:22: UserWarning: Update your `Conv2D` call to the Keras 2 API: `Conv2D(128, (3, 3), activation=\"elu\")`\n",
      "/home/ubuntu/anaconda3/envs/amazonei_tensorflow_p36/lib/python3.6/site-packages/ipykernel/__main__.py:28: UserWarning: Update your `Dense` call to the Keras 2 API: `Dense(activation=\"relu\", units=128)`\n",
      "/home/ubuntu/anaconda3/envs/amazonei_tensorflow_p36/lib/python3.6/site-packages/ipykernel/__main__.py:29: UserWarning: Update your `Dense` call to the Keras 2 API: `Dense(activation=\"sigmoid\", units=1)`\n"
     ]
    }
   ],
   "source": [
    "# Initialising the CNN\n",
    "classifier3 = Sequential()\n",
    "\n",
    "# Step 1 - Convolution\n",
    "classifier3.add(Dropout(.2))\n",
    "classifier3.add(keras.layers.BatchNormalization(axis=-1, momentum=0.99, epsilon=0.001))\n",
    "classifier3.add(Conv2D(64, 5, 5, input_shape = (256, 256, 8), activation = 'relu'))\n",
    "# Step 2 - Pooling\n",
    "classifier3.add(MaxPooling2D(pool_size = (2, 2)))\n",
    "\n",
    "# Adding a second convolutional layer\n",
    "classifier3.add(keras.layers.BatchNormalization(axis=-1, momentum=0.99, epsilon=0.001))\n",
    "classifier3.add(Conv2D(32, 3, 3, activation = 'elu'))\n",
    "classifier3.add(MaxPooling2D(pool_size = (2, 2)))\n",
    "\n",
    "# Adding a third convolutional layer\n",
    "classifier3.add(keras.layers.BatchNormalization(axis=-1, momentum=0.99, epsilon=0.001))\n",
    "classifier3.add(Conv2D(64, 3, 3, activation = 'elu'))\n",
    "classifier3.add(MaxPooling2D(pool_size = (2, 2)))\n",
    "\n",
    "classifier3.add(keras.layers.BatchNormalization(axis=-1, momentum=0.99, epsilon=0.001))\n",
    "classifier3.add(Conv2D(128, 3, 3, activation = 'elu'))\n",
    "classifier3.add(Dropout(.2))\n",
    "# Step 3 - Flattening\n",
    "classifier3.add(Flatten())\n",
    "\n",
    "# Step 4 - Full connection\n",
    "classifier3.add(Dense(output_dim = 128, activation = 'relu'))\n",
    "classifier3.add(Dense(output_dim = 1, activation = 'sigmoid'))\n",
    "\n",
    "# Compiling the CNN\n",
    "classifier3.compile(optimizer = 'adam', loss = 'binary_crossentropy', metrics = ['accuracy'])"
   ]
  },
  {
   "cell_type": "code",
   "execution_count": 24,
   "metadata": {},
   "outputs": [
    {
     "name": "stderr",
     "output_type": "stream",
     "text": [
      "/home/ubuntu/anaconda3/envs/amazonei_tensorflow_p36/lib/python3.6/site-packages/ipykernel/__main__.py:4: UserWarning: The `nb_epoch` argument in `fit` has been renamed `epochs`.\n"
     ]
    },
    {
     "name": "stdout",
     "output_type": "stream",
     "text": [
      "Train on 8800 samples, validate on 1101 samples\n",
      "Epoch 1/10\n",
      "8800/8800 [==============================] - 1919s 218ms/step - loss: 1.3410 - accuracy: 0.8356 - val_loss: 0.4043 - val_accuracy: 0.8638\n",
      "Epoch 2/10\n",
      "8800/8800 [==============================] - 1917s 218ms/step - loss: 0.2071 - accuracy: 0.9193 - val_loss: 0.3599 - val_accuracy: 0.8147\n",
      "Epoch 3/10\n",
      "8800/8800 [==============================] - 1918s 218ms/step - loss: 0.1768 - accuracy: 0.9385 - val_loss: 0.5067 - val_accuracy: 0.9410\n",
      "Epoch 4/10\n",
      "8800/8800 [==============================] - 1934s 220ms/step - loss: 0.1474 - accuracy: 0.9498 - val_loss: 0.3591 - val_accuracy: 0.9173\n",
      "Epoch 5/10\n",
      "8800/8800 [==============================] - 1932s 220ms/step - loss: 0.1372 - accuracy: 0.9550 - val_loss: 0.4564 - val_accuracy: 0.9146\n",
      "Epoch 6/10\n",
      "8800/8800 [==============================] - 1932s 220ms/step - loss: 0.1301 - accuracy: 0.9564 - val_loss: 0.3991 - val_accuracy: 0.9282\n",
      "Epoch 7/10\n",
      "8800/8800 [==============================] - 1935s 220ms/step - loss: 0.1267 - accuracy: 0.9600 - val_loss: 0.3802 - val_accuracy: 0.9519\n",
      "Epoch 8/10\n",
      "8800/8800 [==============================] - 1934s 220ms/step - loss: 0.1284 - accuracy: 0.9588 - val_loss: 0.1922 - val_accuracy: 0.9646\n",
      "Epoch 9/10\n",
      "8800/8800 [==============================] - 1934s 220ms/step - loss: 0.1203 - accuracy: 0.9593 - val_loss: 0.2081 - val_accuracy: 0.9482\n",
      "Epoch 10/10\n",
      "8800/8800 [==============================] - 1935s 220ms/step - loss: 0.1249 - accuracy: 0.9583 - val_loss: 0.1903 - val_accuracy: 0.9537\n"
     ]
    }
   ],
   "source": [
    "history3 = classifier3.fit(X_train, Y_train,\n",
    "                         nb_epoch = 10,\n",
    "                         validation_data = (X_val, Y_val), \n",
    "                        batch_size=64\n",
    "                        )"
   ]
  },
  {
   "cell_type": "code",
   "execution_count": 25,
   "metadata": {},
   "outputs": [
    {
     "name": "stdout",
     "output_type": "stream",
     "text": [
      "1101/1101 [==============================] - 53s 48ms/step\n"
     ]
    },
    {
     "data": {
      "text/plain": [
       "[0.19031102179323783, 0.9536784887313843]"
      ]
     },
     "execution_count": 25,
     "metadata": {},
     "output_type": "execute_result"
    }
   ],
   "source": [
    "classifier3.evaluate(X_val, Y_val)"
   ]
  },
  {
   "cell_type": "code",
   "execution_count": 26,
   "metadata": {},
   "outputs": [
    {
     "name": "stdout",
     "output_type": "stream",
     "text": [
      "1100/1100 [==============================] - 52s 48ms/step\n"
     ]
    },
    {
     "data": {
      "text/plain": [
       "[0.23303586097603493, 0.9572727084159851]"
      ]
     },
     "execution_count": 26,
     "metadata": {},
     "output_type": "execute_result"
    }
   ],
   "source": [
    "classifier3.evaluate(X_test, Y_test)"
   ]
  },
  {
   "cell_type": "code",
   "execution_count": 27,
   "metadata": {},
   "outputs": [
    {
     "name": "stdout",
     "output_type": "stream",
     "text": [
      "              precision    recall  f1-score   support\n",
      "\n",
      "         0.0       0.97      0.95      0.96       601\n",
      "         1.0       0.94      0.96      0.95       499\n",
      "\n",
      "   micro avg       0.96      0.96      0.96      1100\n",
      "   macro avg       0.96      0.96      0.96      1100\n",
      "weighted avg       0.96      0.96      0.96      1100\n",
      "\n"
     ]
    }
   ],
   "source": [
    "y_pred = classifier3.predict(X_test)\n",
    "y_pred_bool = np.where(y_pred > 0.5, 1, 0)\n",
    "print(classification_report(Y_test, y_pred_bool))"
   ]
  },
  {
   "cell_type": "code",
   "execution_count": 29,
   "metadata": {},
   "outputs": [
    {
     "data": {
      "text/plain": [
       "Text(0.5, 1.0, 'CNN Model 3 ROC Curve')"
      ]
     },
     "execution_count": 29,
     "metadata": {},
     "output_type": "execute_result"
    },
    {
     "data": {
      "image/png": "[encoded data removed]",
      "text/plain": [
       "<Figure size 432x288 with 1 Axes>"
      ]
     },
     "metadata": {},
     "output_type": "display_data"
    }
   ],
   "source": [
    "sklearn.metrics.roc_auc_score(Y_test, y_pred_bool)\n",
    "fpr, tpr, thresholds = sklearn.metrics.roc_curve(Y_test, y_pred_bool)\n",
    "plt.plot(fpr, tpr)\n",
    "plt.ylabel(\"TPR\")\n",
    "plt.xlabel(\"FPR\")\n",
    "plt.title('CNN Model 3 ROC Curve')"
   ]
  },
  {
   "cell_type": "code",
   "execution_count": 32,
   "metadata": {},
   "outputs": [
    {
     "data": {
      "image/png": "[encoded data removed]",
      "text/plain": [
       "<Figure size 432x288 with 1 Axes>"
      ]
     },
     "metadata": {},
     "output_type": "display_data"
    },
    {
     "data": {
      "image/png": "[encoded data removed]",
      "text/plain": [
       "<Figure size 432x288 with 1 Axes>"
      ]
     },
     "metadata": {},
     "output_type": "display_data"
    }
   ],
   "source": [
    "plt.plot(history3.history['loss'])\n",
    "plt.plot(history3.history['val_loss'])\n",
    "plt.title('CNN Model 3 Loss')\n",
    "plt.ylabel('Loss')\n",
    "plt.xlabel('Epoch')\n",
    "plt.legend(['Train', 'Test'], loc='upper left')\n",
    "plt.show()\n",
    "\n",
    "plt.plot(history3.history['accuracy'])\n",
    "plt.plot(history3.history['val_accuracy'])\n",
    "plt.title('CNN Model 3 Accuracy')\n",
    "plt.ylabel('Accuracy')\n",
    "plt.xlabel('Epoch')\n",
    "plt.legend(['Train', 'Test'], loc='upper left')\n",
    "plt.show()"
   ]
  },
  {
   "cell_type": "markdown",
   "metadata": {},
   "source": [
    "\n",
    "# ResNet50 Model"
   ]
  },
  {
   "cell_type": "code",
   "execution_count": 6,
   "metadata": {},
   "outputs": [],
   "source": [
    "from keras.applications.resnet import ResNet50\n",
    "import keras"
   ]
  },
  {
   "cell_type": "code",
   "execution_count": 7,
   "metadata": {},
   "outputs": [
    {
     "name": "stdout",
     "output_type": "stream",
     "text": [
      "WARNING:tensorflow:From /home/ubuntu/anaconda3/envs/amazonei_tensorflow_p36/lib/python3.6/site-packages/keras/backend/tensorflow_backend.py:4070: The name tf.nn.max_pool is deprecated. Please use tf.nn.max_pool2d instead.\n",
      "\n",
      "Downloading data from https://github.com/keras-team/keras-applications/releases/download/resnet/resnet50_weights_tf_dim_ordering_tf_kernels_notop.h5\n",
      "94773248/94765736 [==============================] - 5s 0us/step\n",
      "WARNING:tensorflow:From /home/ubuntu/anaconda3/envs/amazonei_tensorflow_p36/lib/python3.6/site-packages/tensorflow/python/ops/nn_impl.py:180: add_dispatch_support.<locals>.wrapper (from tensorflow.python.ops.array_ops) is deprecated and will be removed in a future version.\n",
      "Instructions for updating:\n",
      "Use tf.where in 2.0, which has the same broadcast rule as np.where\n"
     ]
    },
    {
     "name": "stderr",
     "output_type": "stream",
     "text": [
      "/home/ubuntu/anaconda3/envs/amazonei_tensorflow_p36/lib/python3.6/site-packages/ipykernel/__main__.py:6: UserWarning: Update your `Model` call to the Keras 2 API: `Model(inputs=Tensor(\"in..., outputs=Tensor(\"de...)`\n"
     ]
    }
   ],
   "source": [
    "model_resnet50 = ResNet50(include_top=False, pooling='avg', weights='imagenet',input_shape=(256,256,3))  \n",
    "x = model_resnet50.output  \n",
    "for layer in model_resnet50.layers:\n",
    "    layer.trainable=False\n",
    "predictions = Dense(1, activation='sigmoid')(x)\n",
    "model_resnet50 = keras.Model(input = model_resnet50.input, output = predictions)\n",
    "\n",
    "\n",
    "model_resnet50.compile(optimizer = 'adam', loss = 'binary_crossentropy', metrics = ['accuracy'])"
   ]
  },
  {
   "cell_type": "code",
   "execution_count": 8,
   "metadata": {},
   "outputs": [
    {
     "name": "stderr",
     "output_type": "stream",
     "text": [
      "/home/ubuntu/anaconda3/envs/amazonei_tensorflow_p36/lib/python3.6/site-packages/ipykernel/__main__.py:7: UserWarning: The `nb_epoch` argument in `fit` has been renamed `epochs`.\n"
     ]
    },
    {
     "name": "stdout",
     "output_type": "stream",
     "text": [
      "WARNING:tensorflow:From /home/ubuntu/anaconda3/envs/amazonei_tensorflow_p36/lib/python3.6/site-packages/keras/backend/tensorflow_backend.py:422: The name tf.global_variables is deprecated. Please use tf.compat.v1.global_variables instead.\n",
      "\n",
      "Train on 8800 samples, validate on 1101 samples\n",
      "Epoch 1/10\n",
      "8800/8800 [==============================] - 1925s 219ms/step - loss: 0.5487 - accuracy: 0.7205 - val_loss: 0.9636 - val_accuracy: 0.4632\n",
      "Epoch 2/10\n",
      "8800/8800 [==============================] - 1910s 217ms/step - loss: 0.4768 - accuracy: 0.7793 - val_loss: 0.9068 - val_accuracy: 0.4896\n",
      "Epoch 3/10\n",
      "8800/8800 [==============================] - 1909s 217ms/step - loss: 0.4563 - accuracy: 0.7881 - val_loss: 0.8895 - val_accuracy: 0.5232\n",
      "Epoch 4/10\n",
      "8800/8800 [==============================] - 1910s 217ms/step - loss: 0.4434 - accuracy: 0.7967 - val_loss: 0.8051 - val_accuracy: 0.5386\n",
      "Epoch 5/10\n",
      "8800/8800 [==============================] - 1913s 217ms/step - loss: 0.4291 - accuracy: 0.8086 - val_loss: 0.7969 - val_accuracy: 0.5513\n",
      "Epoch 6/10\n",
      "8800/8800 [==============================] - 1908s 217ms/step - loss: 0.4224 - accuracy: 0.8158 - val_loss: 0.7289 - val_accuracy: 0.5858\n",
      "Epoch 7/10\n",
      "8800/8800 [==============================] - 1908s 217ms/step - loss: 0.4160 - accuracy: 0.8188 - val_loss: 0.7715 - val_accuracy: 0.5586\n",
      "Epoch 8/10\n",
      "8800/8800 [==============================] - 1912s 217ms/step - loss: 0.4104 - accuracy: 0.8203 - val_loss: 0.6878 - val_accuracy: 0.6158\n",
      "Epoch 9/10\n",
      "8800/8800 [==============================] - 1909s 217ms/step - loss: 0.4042 - accuracy: 0.8263 - val_loss: 0.7154 - val_accuracy: 0.6085\n",
      "Epoch 10/10\n",
      "8800/8800 [==============================] - 1905s 217ms/step - loss: 0.4036 - accuracy: 0.8261 - val_loss: 0.6719 - val_accuracy: 0.6349\n"
     ]
    }
   ],
   "source": [
    "sliced_X_train = X_train[:,:,:,0:3]\n",
    "sliced_X_val = X_val[:,:,:,0:3]\n",
    "\n",
    "hist = model_resnet50.fit(sliced_X_train, Y_train,\n",
    "                         nb_epoch = 10,\n",
    "                         validation_data = (sliced_X_val, Y_val), \n",
    "                        batch_size=64\n",
    "                        )"
   ]
  },
  {
   "cell_type": "code",
   "execution_count": 9,
   "metadata": {},
   "outputs": [
    {
     "name": "stdout",
     "output_type": "stream",
     "text": [
      "1101/1101 [==============================] - 239s 217ms/step\n"
     ]
    },
    {
     "data": {
      "text/plain": [
       "[0.6718592273983276, 0.6348773837089539]"
      ]
     },
     "execution_count": 9,
     "metadata": {},
     "output_type": "execute_result"
    }
   ],
   "source": [
    "model_resnet50.evaluate(X_val[:,:,:,0:3], Y_val)"
   ]
  },
  {
   "cell_type": "code",
   "execution_count": 11,
   "metadata": {},
   "outputs": [
    {
     "name": "stdout",
     "output_type": "stream",
     "text": [
      "1100/1100 [==============================] - 238s 217ms/step\n"
     ]
    },
    {
     "data": {
      "text/plain": [
       "[0.6610739690607245, 0.6409090757369995]"
      ]
     },
     "execution_count": 11,
     "metadata": {},
     "output_type": "execute_result"
    }
   ],
   "source": [
    "model_resnet50.evaluate(X_test[:,:,:,0:3], Y_test)"
   ]
  },
  {
   "cell_type": "code",
   "execution_count": 14,
   "metadata": {},
   "outputs": [
    {
     "name": "stdout",
     "output_type": "stream",
     "text": [
      "              precision    recall  f1-score   support\n",
      "\n",
      "         0.0       0.79      0.47      0.59       601\n",
      "         1.0       0.57      0.85      0.68       499\n",
      "\n",
      "   micro avg       0.64      0.64      0.64      1100\n",
      "   macro avg       0.68      0.66      0.63      1100\n",
      "weighted avg       0.69      0.64      0.63      1100\n",
      "\n"
     ]
    }
   ],
   "source": [
    "y_pred = model_resnet50.predict(X_test[:,:,:,0:3])\n",
    "\n",
    "y_pred_bool = np.where(y_pred > 0.5, 1, 0)\n",
    "print(classification_report(Y_test, y_pred_bool))"
   ]
  },
  {
   "cell_type": "code",
   "execution_count": 17,
   "metadata": {},
   "outputs": [
    {
     "data": {
      "image/png": "[encoded data removed]",
      "text/plain": [
       "<Figure size 432x288 with 1 Axes>"
      ]
     },
     "metadata": {},
     "output_type": "display_data"
    }
   ],
   "source": [
    "plt.plot(hist.history['loss'])\n",
    "plt.plot(hist.history['val_loss'])\n",
    "plt.title('ResNet50 Model loss')\n",
    "plt.ylabel('Loss')\n",
    "plt.xlabel('Epoch')\n",
    "plt.legend(['Train', 'Test'], loc='upper left')\n",
    "plt.show()"
   ]
  },
  {
   "cell_type": "code",
   "execution_count": 21,
   "metadata": {},
   "outputs": [
    {
     "data": {
      "text/plain": [
       "Text(0.5, 1.0, 'ResNet50 Model ROC Curve')"
      ]
     },
     "execution_count": 21,
     "metadata": {},
     "output_type": "execute_result"
    },
    {
     "data": {
      "image/png": "[encoded data removed]",
      "text/plain": [
       "<Figure size 432x288 with 1 Axes>"
      ]
     },
     "metadata": {},
     "output_type": "display_data"
    }
   ],
   "source": [
    "sklearn.metrics.roc_auc_score(Y_test, y_pred_bool)\n",
    "fpr, tpr, thresholds = sklearn.metrics.roc_curve(Y_test, y_pred_bool)\n",
    "plt.plot(fpr, tpr)\n",
    "plt.ylabel(\"TPR\")\n",
    "plt.xlabel(\"FPR\")\n",
    "plt.title('ResNet50 Model ROC Curve')"
   ]
  }
 ],
 "metadata": {
  "kernelspec": {
   "display_name": "Environment (conda_amazonei_tensorflow_p36)",
   "language": "python",
   "name": "conda_amazonei_tensorflow_p36"
  },
  "language_info": {
   "codemirror_mode": {
    "name": "ipython",
    "version": 3
   },
   "file_extension": ".py",
   "mimetype": "text/x-python",
   "name": "python",
   "nbconvert_exporter": "python",
   "pygments_lexer": "ipython3",
   "version": "3.6.6"
  }
 },
 "nbformat": 4,
 "nbformat_minor": 4
}
